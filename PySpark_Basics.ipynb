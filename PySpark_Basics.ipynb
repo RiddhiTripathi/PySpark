{
  "nbformat": 4,
  "nbformat_minor": 0,
  "metadata": {
    "colab": {
      "provenance": [],
      "authorship_tag": "ABX9TyOH4aqiH8iC2LeqUQzDaG2b",
      "include_colab_link": true
    },
    "kernelspec": {
      "name": "python3",
      "display_name": "Python 3"
    },
    "language_info": {
      "name": "python"
    }
  },
  "cells": [
    {
      "cell_type": "markdown",
      "metadata": {
        "id": "view-in-github",
        "colab_type": "text"
      },
      "source": [
        "<a href=\"https://colab.research.google.com/github/RiddhiTripathi/PySpark/blob/pyspark_basic/PySpark_Basics.ipynb\" target=\"_parent\"><img src=\"https://colab.research.google.com/assets/colab-badge.svg\" alt=\"Open In Colab\"/></a>"
      ]
    },
    {
      "cell_type": "code",
      "execution_count": 2,
      "metadata": {
        "colab": {
          "base_uri": "https://localhost:8080/"
        },
        "id": "C6pTvrdYq-O1",
        "outputId": "14405e58-e939-475a-e8d6-91020eaa9864"
      },
      "outputs": [
        {
          "output_type": "stream",
          "name": "stdout",
          "text": [
            "Collecting pyspark\n",
            "  Downloading pyspark-3.5.1.tar.gz (317.0 MB)\n",
            "\u001b[2K     \u001b[90m━━━━━━━━━━━━━━━━━━━━━━━━━━━━━━━━━━━━━━━━\u001b[0m \u001b[32m317.0/317.0 MB\u001b[0m \u001b[31m3.5 MB/s\u001b[0m eta \u001b[36m0:00:00\u001b[0m\n",
            "\u001b[?25h  Preparing metadata (setup.py) ... \u001b[?25l\u001b[?25hdone\n",
            "Requirement already satisfied: py4j==0.10.9.7 in /usr/local/lib/python3.10/dist-packages (from pyspark) (0.10.9.7)\n",
            "Building wheels for collected packages: pyspark\n",
            "  Building wheel for pyspark (setup.py) ... \u001b[?25l\u001b[?25hdone\n",
            "  Created wheel for pyspark: filename=pyspark-3.5.1-py2.py3-none-any.whl size=317488491 sha256=bf3b28eb64f7fb847276f5f3e950eec9b7e51035b3656cb0073ae1f158cbcfc7\n",
            "  Stored in directory: /root/.cache/pip/wheels/80/1d/60/2c256ed38dddce2fdd93be545214a63e02fbd8d74fb0b7f3a6\n",
            "Successfully built pyspark\n",
            "Installing collected packages: pyspark\n",
            "Successfully installed pyspark-3.5.1\n"
          ]
        }
      ],
      "source": [
        "pip install pyspark"
      ]
    },
    {
      "cell_type": "code",
      "source": [
        "from pyspark.sql import SparkSession\n",
        "from pyspark.sql.functions import *\n",
        "\n",
        "spark = SparkSession.builder.appName(\"PySparkExample\").getOrCreate()"
      ],
      "metadata": {
        "id": "9C5RvJWprSts"
      },
      "execution_count": 13,
      "outputs": []
    },
    {
      "cell_type": "code",
      "source": [
        "data = [(\"Alice\", 25), (\"Bob\", 30), (\"Charlie\", 35)]"
      ],
      "metadata": {
        "id": "tAccrUMBrYG5"
      },
      "execution_count": 4,
      "outputs": []
    },
    {
      "cell_type": "code",
      "source": [
        "df = spark.createDataFrame(data, [\"Name\", \"Age\"])\n"
      ],
      "metadata": {
        "id": "C1bbwxAqrbqP"
      },
      "execution_count": 5,
      "outputs": []
    },
    {
      "cell_type": "code",
      "source": [
        "df.show()"
      ],
      "metadata": {
        "colab": {
          "base_uri": "https://localhost:8080/"
        },
        "id": "Cv69XePercZa",
        "outputId": "6a2b2d6e-9849-4083-ba9e-242d81243073"
      },
      "execution_count": 6,
      "outputs": [
        {
          "output_type": "stream",
          "name": "stdout",
          "text": [
            "+-------+---+\n",
            "|   Name|Age|\n",
            "+-------+---+\n",
            "|  Alice| 25|\n",
            "|    Bob| 30|\n",
            "|Charlie| 35|\n",
            "+-------+---+\n",
            "\n"
          ]
        }
      ]
    },
    {
      "cell_type": "markdown",
      "source": [
        "# Data Manipulation with PySpark"
      ],
      "metadata": {
        "id": "V446nTfUT-2v"
      }
    },
    {
      "cell_type": "markdown",
      "source": [
        "##### Selecting Columns"
      ],
      "metadata": {
        "id": "m0VT81ALUF-f"
      }
    },
    {
      "cell_type": "code",
      "source": [
        "df.select(\"Name\",\"Age\").show()"
      ],
      "metadata": {
        "colab": {
          "base_uri": "https://localhost:8080/"
        },
        "id": "bpgv4LXerfMZ",
        "outputId": "6de43a1c-3365-4cca-a1db-0afafbf408d3"
      },
      "execution_count": 7,
      "outputs": [
        {
          "output_type": "stream",
          "name": "stdout",
          "text": [
            "+-------+---+\n",
            "|   Name|Age|\n",
            "+-------+---+\n",
            "|  Alice| 25|\n",
            "|    Bob| 30|\n",
            "|Charlie| 35|\n",
            "+-------+---+\n",
            "\n"
          ]
        }
      ]
    },
    {
      "cell_type": "markdown",
      "source": [
        "##### Adding Columns"
      ],
      "metadata": {
        "id": "wm9qv3y3UbVK"
      }
    },
    {
      "cell_type": "code",
      "source": [
        "df_with_gender = df.withColumn(\"Gender\", lit(\"Female\"))\n",
        "df_with_gender.show()"
      ],
      "metadata": {
        "colab": {
          "base_uri": "https://localhost:8080/"
        },
        "id": "VaGC74WNUZDm",
        "outputId": "19993950-4184-495b-8184-5b13da0b64ea"
      },
      "execution_count": 14,
      "outputs": [
        {
          "output_type": "stream",
          "name": "stdout",
          "text": [
            "+-------+---+------+\n",
            "|   Name|Age|Gender|\n",
            "+-------+---+------+\n",
            "|  Alice| 25|Female|\n",
            "|    Bob| 30|Female|\n",
            "|Charlie| 35|Female|\n",
            "+-------+---+------+\n",
            "\n"
          ]
        }
      ]
    },
    {
      "cell_type": "markdown",
      "source": [
        "##### Filtering Rows"
      ],
      "metadata": {
        "id": "hplnCEisVnEC"
      }
    },
    {
      "cell_type": "code",
      "source": [
        "df_filtered = df.filter(df[\"Age\"] > 30)\n",
        "df_filtered.show()"
      ],
      "metadata": {
        "colab": {
          "base_uri": "https://localhost:8080/"
        },
        "id": "emystvlSVmMy",
        "outputId": "7e843a29-067b-48f9-deff-cad68951ac55"
      },
      "execution_count": 15,
      "outputs": [
        {
          "output_type": "stream",
          "name": "stdout",
          "text": [
            "+-------+---+\n",
            "|   Name|Age|\n",
            "+-------+---+\n",
            "|Charlie| 35|\n",
            "+-------+---+\n",
            "\n"
          ]
        }
      ]
    },
    {
      "cell_type": "markdown",
      "source": [
        "##### Sorting Data"
      ],
      "metadata": {
        "id": "-XbWBZ1sWG2g"
      }
    },
    {
      "cell_type": "code",
      "source": [
        "df_sorted = df.orderBy(df[\"Age\"])\n",
        "df_sorted.show()"
      ],
      "metadata": {
        "colab": {
          "base_uri": "https://localhost:8080/"
        },
        "id": "dvri39yDWFvC",
        "outputId": "050718ae-0c6d-4ee4-a4fb-bc5683f837b1"
      },
      "execution_count": 16,
      "outputs": [
        {
          "output_type": "stream",
          "name": "stdout",
          "text": [
            "+-------+---+\n",
            "|   Name|Age|\n",
            "+-------+---+\n",
            "|  Alice| 25|\n",
            "|    Bob| 30|\n",
            "|Charlie| 35|\n",
            "+-------+---+\n",
            "\n"
          ]
        }
      ]
    },
    {
      "cell_type": "markdown",
      "source": [
        "##### Grouping and Aggregating Data"
      ],
      "metadata": {
        "id": "mHqRCdomWSgk"
      }
    },
    {
      "cell_type": "code",
      "source": [
        "df_grouped = df_with_gender.groupBy(\"Gender\").agg({\"Age\": \"avg\"})\n",
        "df_grouped.show()"
      ],
      "metadata": {
        "colab": {
          "base_uri": "https://localhost:8080/"
        },
        "id": "tzjqJ1-tWWDB",
        "outputId": "2a0620c8-ff97-4bef-d623-5b76f685376e"
      },
      "execution_count": 18,
      "outputs": [
        {
          "output_type": "stream",
          "name": "stdout",
          "text": [
            "+------+--------+\n",
            "|Gender|avg(Age)|\n",
            "+------+--------+\n",
            "|Female|    30.0|\n",
            "+------+--------+\n",
            "\n"
          ]
        }
      ]
    }
  ]
}